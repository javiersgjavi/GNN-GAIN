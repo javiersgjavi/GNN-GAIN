{
 "cells": [
  {
   "cell_type": "code",
   "execution_count": 120,
   "metadata": {},
   "outputs": [],
   "source": [
    "import pandas as pd\n",
    "import torch.nn as nn\n",
    "import tsl\n",
    "from tsl.nn.blocks.encoders import TemporalConvNet, SpatioTemporalConvNet, Transformer, SpatioTemporalTransformerLayer\n",
    "from tsl.nn.blocks.encoders.recurrent import RNN, GraphConvRNN#, MultiRNN\n",
    "\n",
    "from tsl.nn.blocks.decoders import GCNDecoder\n",
    "\n",
    "from torch.nn.utils.parametrizations import spectral_norm\n"
   ]
  },
  {
   "cell_type": "code",
   "execution_count": 2,
   "metadata": {},
   "outputs": [],
   "source": [
    "def apply_spectral_norm(m):\n",
    "    for _, module in m.named_children():\n",
    "        if isinstance(module, nn.Linear):\n",
    "            spectral_norm(module)\n",
    "        elif isinstance(module, nn.LSTM):\n",
    "            for p in module._flat_weights_names:\n",
    "                if 'weight' in p:\n",
    "                    spectral_norm(module, name=p)\n",
    "    return m\n",
    "    "
   ]
  },
  {
   "cell_type": "code",
   "execution_count": 74,
   "metadata": {},
   "outputs": [
    {
     "name": "stdout",
     "output_type": "stream",
     "text": [
      "Sequential(\n",
      "  (0): Linear(in_features=10, out_features=20, bias=True)\n",
      "  (1): ReLU()\n",
      "  (2): Linear(in_features=20, out_features=1, bias=True)\n",
      ")\n"
     ]
    }
   ],
   "source": [
    "mlp_block = nn.Sequential(\n",
    "    nn.Linear(10, 20),\n",
    "    nn.ReLU(),\n",
    "    nn.Linear(20, 1)\n",
    ")\n",
    "\n",
    "print(mlp_block)"
   ]
  },
  {
   "cell_type": "code",
   "execution_count": 75,
   "metadata": {},
   "outputs": [
    {
     "name": "stdout",
     "output_type": "stream",
     "text": [
      "Sequential(\n",
      "  (0): ParametrizedLinear(\n",
      "    in_features=10, out_features=20, bias=True\n",
      "    (parametrizations): ModuleDict(\n",
      "      (weight): ParametrizationList(\n",
      "        (0): _SpectralNorm()\n",
      "      )\n",
      "    )\n",
      "  )\n",
      "  (1): ReLU()\n",
      "  (2): ParametrizedLinear(\n",
      "    in_features=20, out_features=1, bias=True\n",
      "    (parametrizations): ModuleDict(\n",
      "      (weight): ParametrizationList(\n",
      "        (0): _SpectralNorm()\n",
      "      )\n",
      "    )\n",
      "  )\n",
      ")\n"
     ]
    }
   ],
   "source": [
    "for name, module in mlp_block.named_modules():\n",
    "    if isinstance(module, nn.Linear):\n",
    "        spectral_norm(module)\n",
    "        "
   ]
  },
  {
   "cell_type": "code",
   "execution_count": 132,
   "metadata": {},
   "outputs": [],
   "source": [
    "def apply_spectral_norm(m):\n",
    "\n",
    "    class_trans_layer = tsl.nn.blocks.encoders.transformer.Transformer\n",
    "    decoder = tsl.nn.blocks.decoders.GCNDecoder\n",
    "\n",
    "    if isinstance(m, class_trans_layer) or isinstance(m, decoder):\n",
    "        for name, module in m.named_modules():\n",
    "            if isinstance(module, nn.Linear):\n",
    "                spectral_norm(module)\n",
    "\n",
    "    else:\n",
    "\n",
    "        for _, module in m.named_children():\n",
    "            \n",
    "            if isinstance(module, nn.Linear):\n",
    "                spectral_norm(module)\n",
    "\n",
    "            elif isinstance(module, nn.LSTM) or isinstance(module, nn.GRU):\n",
    "                print(module.__class__)\n",
    "                for p in module.state_dict().keys():\n",
    "                    if 'weight' in p:\n",
    "                        spectral_norm(module, name=p)\n",
    "    return m\n",
    "    \n",
    "    \n",
    "mlp_block = nn.Sequential(\n",
    "    nn.Linear(10, 20),\n",
    "    nn.ReLU(),\n",
    "    nn.Linear(20, 1)\n",
    ")\n",
    "\n",
    "\n",
    "\n",
    "trans_block = Transformer(\n",
    "    input_size=10,\n",
    "    hidden_size=20,\n",
    "    ff_size=30,\n",
    "    n_layers=3\n",
    "    )\n",
    "\n",
    "rnn_block = RNN(\n",
    "    input_size = 10, \n",
    "    hidden_size = 20, \n",
    "    cell='lstm',\n",
    "    n_layers=3\n",
    "    )\n",
    "\n",
    "gcn_block = GCNDecoder(\n",
    "    input_size = 10, \n",
    "    hidden_size = 20, \n",
    "    n_layers=3,\n",
    "    output_size=1\n",
    "    )\n",
    "\n"
   ]
  },
  {
   "cell_type": "code",
   "execution_count": 117,
   "metadata": {},
   "outputs": [
    {
     "name": "stdout",
     "output_type": "stream",
     "text": [
      "Sequential(\n",
      "  (0): Linear(in_features=10, out_features=20, bias=True)\n",
      "  (1): ReLU()\n",
      "  (2): Linear(in_features=20, out_features=1, bias=True)\n",
      ")\n",
      "-------------------- \n",
      "Sequential(\n",
      "  (0): ParametrizedLinear(\n",
      "    in_features=10, out_features=20, bias=True\n",
      "    (parametrizations): ModuleDict(\n",
      "      (weight): ParametrizationList(\n",
      "        (0): _SpectralNorm()\n",
      "      )\n",
      "    )\n",
      "  )\n",
      "  (1): ReLU()\n",
      "  (2): ParametrizedLinear(\n",
      "    in_features=20, out_features=1, bias=True\n",
      "    (parametrizations): ModuleDict(\n",
      "      (weight): ParametrizationList(\n",
      "        (0): _SpectralNorm()\n",
      "      )\n",
      "    )\n",
      "  )\n",
      ")\n"
     ]
    }
   ],
   "source": [
    "print(mlp_block)\n",
    "print('-------------------- ')\n",
    "apply_spectral_norm(mlp_block)\n",
    "print(mlp_block)"
   ]
  },
  {
   "cell_type": "code",
   "execution_count": 118,
   "metadata": {},
   "outputs": [
    {
     "name": "stdout",
     "output_type": "stream",
     "text": [
      "RNN(\n",
      "  (rnn): LSTM(10, 20, num_layers=3)\n",
      ")\n",
      "-------------------- \n",
      "<class 'torch.nn.modules.rnn.LSTM'>\n"
     ]
    },
    {
     "data": {
      "text/plain": [
       "RNN(\n",
       "  (rnn): ParametrizedLSTM(\n",
       "    10, 20, num_layers=3\n",
       "    (parametrizations): ModuleDict(\n",
       "      (weight_ih_l0): ParametrizationList(\n",
       "        (0): _SpectralNorm()\n",
       "      )\n",
       "      (weight_hh_l0): ParametrizationList(\n",
       "        (0): _SpectralNorm()\n",
       "      )\n",
       "      (weight_ih_l1): ParametrizationList(\n",
       "        (0): _SpectralNorm()\n",
       "      )\n",
       "      (weight_hh_l1): ParametrizationList(\n",
       "        (0): _SpectralNorm()\n",
       "      )\n",
       "      (weight_ih_l2): ParametrizationList(\n",
       "        (0): _SpectralNorm()\n",
       "      )\n",
       "      (weight_hh_l2): ParametrizationList(\n",
       "        (0): _SpectralNorm()\n",
       "      )\n",
       "    )\n",
       "  )\n",
       ")"
      ]
     },
     "execution_count": 118,
     "metadata": {},
     "output_type": "execute_result"
    }
   ],
   "source": [
    "print(rnn_block)\n",
    "print('-------------------- ')\n",
    "apply_spectral_norm(rnn_block)"
   ]
  },
  {
   "cell_type": "code",
   "execution_count": 119,
   "metadata": {},
   "outputs": [
    {
     "name": "stdout",
     "output_type": "stream",
     "text": [
      "-------------------- \n"
     ]
    },
    {
     "data": {
      "text/plain": [
       "Transformer(\n",
       "  (net): Sequential(\n",
       "    (0): TransformerLayer(\n",
       "      (att): MultiHeadAttention(\n",
       "        (out_proj): ParametrizedNonDynamicallyQuantizableLinear(\n",
       "          in_features=20, out_features=20, bias=True\n",
       "          (parametrizations): ModuleDict(\n",
       "            (weight): ParametrizationList(\n",
       "              (0): _SpectralNorm()\n",
       "            )\n",
       "          )\n",
       "        )\n",
       "        (q_proj): Linear(10, 20, bias=True)\n",
       "      )\n",
       "      (skip_conn): ParametrizedLinear(\n",
       "        in_features=10, out_features=20, bias=True\n",
       "        (parametrizations): ModuleDict(\n",
       "          (weight): ParametrizationList(\n",
       "            (0): _SpectralNorm()\n",
       "          )\n",
       "        )\n",
       "      )\n",
       "      (norm1): LayerNorm(10)\n",
       "      (mlp): Sequential(\n",
       "        (0): LayerNorm(20)\n",
       "        (1): ParametrizedLinear(\n",
       "          in_features=20, out_features=30, bias=True\n",
       "          (parametrizations): ModuleDict(\n",
       "            (weight): ParametrizationList(\n",
       "              (0): _SpectralNorm()\n",
       "            )\n",
       "          )\n",
       "        )\n",
       "        (2): ELU(alpha=1.0)\n",
       "        (3): Dropout(p=0.0, inplace=False)\n",
       "        (4): ParametrizedLinear(\n",
       "          in_features=30, out_features=20, bias=True\n",
       "          (parametrizations): ModuleDict(\n",
       "            (weight): ParametrizationList(\n",
       "              (0): _SpectralNorm()\n",
       "            )\n",
       "          )\n",
       "        )\n",
       "        (5): Dropout(p=0.0, inplace=False)\n",
       "      )\n",
       "      (dropout): Dropout(p=0.0, inplace=False)\n",
       "    )\n",
       "    (1): TransformerLayer(\n",
       "      (att): MultiHeadAttention(\n",
       "        (out_proj): ParametrizedNonDynamicallyQuantizableLinear(\n",
       "          in_features=20, out_features=20, bias=True\n",
       "          (parametrizations): ModuleDict(\n",
       "            (weight): ParametrizationList(\n",
       "              (0): _SpectralNorm()\n",
       "            )\n",
       "          )\n",
       "        )\n",
       "        (q_proj): Identity()\n",
       "      )\n",
       "      (skip_conn): Identity()\n",
       "      (norm1): LayerNorm(20)\n",
       "      (mlp): Sequential(\n",
       "        (0): LayerNorm(20)\n",
       "        (1): ParametrizedLinear(\n",
       "          in_features=20, out_features=30, bias=True\n",
       "          (parametrizations): ModuleDict(\n",
       "            (weight): ParametrizationList(\n",
       "              (0): _SpectralNorm()\n",
       "            )\n",
       "          )\n",
       "        )\n",
       "        (2): ELU(alpha=1.0)\n",
       "        (3): Dropout(p=0.0, inplace=False)\n",
       "        (4): ParametrizedLinear(\n",
       "          in_features=30, out_features=20, bias=True\n",
       "          (parametrizations): ModuleDict(\n",
       "            (weight): ParametrizationList(\n",
       "              (0): _SpectralNorm()\n",
       "            )\n",
       "          )\n",
       "        )\n",
       "        (5): Dropout(p=0.0, inplace=False)\n",
       "      )\n",
       "      (dropout): Dropout(p=0.0, inplace=False)\n",
       "    )\n",
       "    (2): TransformerLayer(\n",
       "      (att): MultiHeadAttention(\n",
       "        (out_proj): ParametrizedNonDynamicallyQuantizableLinear(\n",
       "          in_features=20, out_features=20, bias=True\n",
       "          (parametrizations): ModuleDict(\n",
       "            (weight): ParametrizationList(\n",
       "              (0): _SpectralNorm()\n",
       "            )\n",
       "          )\n",
       "        )\n",
       "        (q_proj): Identity()\n",
       "      )\n",
       "      (skip_conn): Identity()\n",
       "      (norm1): LayerNorm(20)\n",
       "      (mlp): Sequential(\n",
       "        (0): LayerNorm(20)\n",
       "        (1): ParametrizedLinear(\n",
       "          in_features=20, out_features=30, bias=True\n",
       "          (parametrizations): ModuleDict(\n",
       "            (weight): ParametrizationList(\n",
       "              (0): _SpectralNorm()\n",
       "            )\n",
       "          )\n",
       "        )\n",
       "        (2): ELU(alpha=1.0)\n",
       "        (3): Dropout(p=0.0, inplace=False)\n",
       "        (4): ParametrizedLinear(\n",
       "          in_features=30, out_features=20, bias=True\n",
       "          (parametrizations): ModuleDict(\n",
       "            (weight): ParametrizationList(\n",
       "              (0): _SpectralNorm()\n",
       "            )\n",
       "          )\n",
       "        )\n",
       "        (5): Dropout(p=0.0, inplace=False)\n",
       "      )\n",
       "      (dropout): Dropout(p=0.0, inplace=False)\n",
       "    )\n",
       "  )\n",
       ")"
      ]
     },
     "execution_count": 119,
     "metadata": {},
     "output_type": "execute_result"
    }
   ],
   "source": [
    "print('-------------------- ')\n",
    "apply_spectral_norm(trans_block)"
   ]
  },
  {
   "cell_type": "code",
   "execution_count": 131,
   "metadata": {},
   "outputs": [
    {
     "data": {
      "text/plain": [
       "GCNDecoder(\n",
       "  (convs): ModuleList(\n",
       "    (0): GraphConv(10, 20)\n",
       "    (1): GraphConv(20, 20)\n",
       "    (2): GraphConv(20, 20)\n",
       "  )\n",
       "  (dropout): Dropout(p=0.0, inplace=False)\n",
       "  (readout): MLPDecoder(\n",
       "    (readout): MLP(\n",
       "      (mlp): Sequential(\n",
       "        (0): Dense(\n",
       "          (affinity): ParametrizedLinear(\n",
       "            in_features=20, out_features=20, bias=True\n",
       "            (parametrizations): ModuleDict(\n",
       "              (weight): ParametrizationList(\n",
       "                (0): _SpectralNorm()\n",
       "              )\n",
       "            )\n",
       "          )\n",
       "          (activation): ReLU()\n",
       "          (dropout): Identity()\n",
       "        )\n",
       "      )\n",
       "      (readout): ParametrizedLinear(\n",
       "        in_features=20, out_features=1, bias=True\n",
       "        (parametrizations): ModuleDict(\n",
       "          (weight): ParametrizationList(\n",
       "            (0): _SpectralNorm()\n",
       "          )\n",
       "        )\n",
       "      )\n",
       "    )\n",
       "    (rearrange): Rearrange('b n (h f) -> b h n f', f=1, h=1)\n",
       "  )\n",
       ")"
      ]
     },
     "execution_count": 131,
     "metadata": {},
     "output_type": "execute_result"
    }
   ],
   "source": [
    "gcn_block\n",
    "apply_spectral_norm(gcn_block)"
   ]
  }
 ],
 "metadata": {
  "kernelspec": {
   "display_name": "Python 3",
   "language": "python",
   "name": "python3"
  },
  "language_info": {
   "codemirror_mode": {
    "name": "ipython",
    "version": 3
   },
   "file_extension": ".py",
   "mimetype": "text/x-python",
   "name": "python",
   "nbconvert_exporter": "python",
   "pygments_lexer": "ipython3",
   "version": "3.10.12"
  }
 },
 "nbformat": 4,
 "nbformat_minor": 0
}
