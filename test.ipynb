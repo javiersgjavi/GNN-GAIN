{
 "cells": [
  {
   "cell_type": "code",
   "execution_count": 3,
   "metadata": {
    "ExecuteTime": {
     "start_time": "2023-04-26T18:51:06.217981Z",
     "end_time": "2023-04-26T18:51:06.295510Z"
    },
    "collapsed": true
   },
   "outputs": [],
   "source": [
    "import pandas as pd\n",
    "import numpy as np\n",
    "from tsl.datasets import MetrLA\n",
    "from tsl.ops.imputation import add_missing_values"
   ]
  },
  {
   "cell_type": "code",
   "execution_count": 2,
   "metadata": {
    "ExecuteTime": {
     "start_time": "2023-04-26T17:38:33.096518Z",
     "end_time": "2023-04-26T17:38:34.605521Z"
    },
    "collapsed": false
   },
   "outputs": [
    {
     "name": "stdout",
     "output_type": "stream",
     "text": [
      "(2, 11753) (11753,)\n"
     ]
    }
   ],
   "source": [
    "x = MetrLA()\n",
    "index, weight = x.get_connectivity()\n",
    "print(index.shape, weight.shape)"
   ]
  },
  {
   "cell_type": "code",
   "execution_count": 6,
   "metadata": {
    "ExecuteTime": {
     "end_time": "2023-04-10T12:05:58.951749Z",
     "start_time": "2023-04-10T12:05:58.887212Z"
    },
    "collapsed": false
   },
   "outputs": [
    {
     "data": {
      "text/html": [
       "<div>\n",
       "<style scoped>\n",
       "    .dataframe tbody tr th:only-of-type {\n",
       "        vertical-align: middle;\n",
       "    }\n",
       "\n",
       "    .dataframe tbody tr th {\n",
       "        vertical-align: top;\n",
       "    }\n",
       "\n",
       "    .dataframe thead th {\n",
       "        text-align: right;\n",
       "    }\n",
       "</style>\n",
       "<table border=\"1\" class=\"dataframe\">\n",
       "  <thead>\n",
       "    <tr style=\"text-align: right;\">\n",
       "      <th></th>\n",
       "      <th>773869</th>\n",
       "      <th>767541</th>\n",
       "      <th>767542</th>\n",
       "      <th>717447</th>\n",
       "      <th>717446</th>\n",
       "      <th>717445</th>\n",
       "      <th>773062</th>\n",
       "      <th>767620</th>\n",
       "      <th>737529</th>\n",
       "      <th>717816</th>\n",
       "      <th>...</th>\n",
       "      <th>772167</th>\n",
       "      <th>769372</th>\n",
       "      <th>774204</th>\n",
       "      <th>769806</th>\n",
       "      <th>717590</th>\n",
       "      <th>717592</th>\n",
       "      <th>717595</th>\n",
       "      <th>772168</th>\n",
       "      <th>718141</th>\n",
       "      <th>769373</th>\n",
       "    </tr>\n",
       "  </thead>\n",
       "  <tbody>\n",
       "    <tr>\n",
       "      <th>2012-03-01 00:00:00</th>\n",
       "      <td>64.375000</td>\n",
       "      <td>67.625000</td>\n",
       "      <td>67.125000</td>\n",
       "      <td>61.500000</td>\n",
       "      <td>66.875000</td>\n",
       "      <td>68.750000</td>\n",
       "      <td>65.125</td>\n",
       "      <td>67.125</td>\n",
       "      <td>59.625000</td>\n",
       "      <td>62.750000</td>\n",
       "      <td>...</td>\n",
       "      <td>45.625000</td>\n",
       "      <td>65.500</td>\n",
       "      <td>64.500000</td>\n",
       "      <td>66.428571</td>\n",
       "      <td>66.875</td>\n",
       "      <td>59.375000</td>\n",
       "      <td>69.000000</td>\n",
       "      <td>59.250000</td>\n",
       "      <td>69.000000</td>\n",
       "      <td>61.875</td>\n",
       "    </tr>\n",
       "    <tr>\n",
       "      <th>2012-03-01 00:05:00</th>\n",
       "      <td>62.666667</td>\n",
       "      <td>68.555556</td>\n",
       "      <td>65.444444</td>\n",
       "      <td>62.444444</td>\n",
       "      <td>64.444444</td>\n",
       "      <td>68.111111</td>\n",
       "      <td>65.000</td>\n",
       "      <td>65.000</td>\n",
       "      <td>57.444444</td>\n",
       "      <td>63.333333</td>\n",
       "      <td>...</td>\n",
       "      <td>50.666667</td>\n",
       "      <td>69.875</td>\n",
       "      <td>66.666667</td>\n",
       "      <td>58.555556</td>\n",
       "      <td>62.000</td>\n",
       "      <td>61.111111</td>\n",
       "      <td>64.444444</td>\n",
       "      <td>55.888889</td>\n",
       "      <td>68.444444</td>\n",
       "      <td>62.875</td>\n",
       "    </tr>\n",
       "    <tr>\n",
       "      <th>2012-03-01 00:10:00</th>\n",
       "      <td>64.000000</td>\n",
       "      <td>63.750000</td>\n",
       "      <td>60.000000</td>\n",
       "      <td>59.000000</td>\n",
       "      <td>66.500000</td>\n",
       "      <td>66.250000</td>\n",
       "      <td>64.500</td>\n",
       "      <td>64.250</td>\n",
       "      <td>63.875000</td>\n",
       "      <td>65.375000</td>\n",
       "      <td>...</td>\n",
       "      <td>44.125000</td>\n",
       "      <td>69.000</td>\n",
       "      <td>56.500000</td>\n",
       "      <td>59.250000</td>\n",
       "      <td>68.125</td>\n",
       "      <td>62.500000</td>\n",
       "      <td>65.625000</td>\n",
       "      <td>61.375000</td>\n",
       "      <td>69.857143</td>\n",
       "      <td>62.000</td>\n",
       "    </tr>\n",
       "    <tr>\n",
       "      <th>2012-03-01 00:15:00</th>\n",
       "      <td>0.000000</td>\n",
       "      <td>0.000000</td>\n",
       "      <td>0.000000</td>\n",
       "      <td>0.000000</td>\n",
       "      <td>0.000000</td>\n",
       "      <td>0.000000</td>\n",
       "      <td>0.000</td>\n",
       "      <td>0.000</td>\n",
       "      <td>0.000000</td>\n",
       "      <td>0.000000</td>\n",
       "      <td>...</td>\n",
       "      <td>0.000000</td>\n",
       "      <td>0.000</td>\n",
       "      <td>0.000000</td>\n",
       "      <td>0.000000</td>\n",
       "      <td>0.000</td>\n",
       "      <td>0.000000</td>\n",
       "      <td>0.000000</td>\n",
       "      <td>0.000000</td>\n",
       "      <td>0.000000</td>\n",
       "      <td>0.000</td>\n",
       "    </tr>\n",
       "    <tr>\n",
       "      <th>2012-03-01 00:20:00</th>\n",
       "      <td>0.000000</td>\n",
       "      <td>0.000000</td>\n",
       "      <td>0.000000</td>\n",
       "      <td>0.000000</td>\n",
       "      <td>0.000000</td>\n",
       "      <td>0.000000</td>\n",
       "      <td>0.000</td>\n",
       "      <td>0.000</td>\n",
       "      <td>0.000000</td>\n",
       "      <td>0.000000</td>\n",
       "      <td>...</td>\n",
       "      <td>0.000000</td>\n",
       "      <td>0.000</td>\n",
       "      <td>0.000000</td>\n",
       "      <td>0.000000</td>\n",
       "      <td>0.000</td>\n",
       "      <td>0.000000</td>\n",
       "      <td>0.000000</td>\n",
       "      <td>0.000000</td>\n",
       "      <td>0.000000</td>\n",
       "      <td>0.000</td>\n",
       "    </tr>\n",
       "  </tbody>\n",
       "</table>\n",
       "<p>5 rows × 207 columns</p>\n",
       "</div>"
      ],
      "text/plain": [
       "                        773869     767541     767542     717447     717446  \\\n",
       "2012-03-01 00:00:00  64.375000  67.625000  67.125000  61.500000  66.875000   \n",
       "2012-03-01 00:05:00  62.666667  68.555556  65.444444  62.444444  64.444444   \n",
       "2012-03-01 00:10:00  64.000000  63.750000  60.000000  59.000000  66.500000   \n",
       "2012-03-01 00:15:00   0.000000   0.000000   0.000000   0.000000   0.000000   \n",
       "2012-03-01 00:20:00   0.000000   0.000000   0.000000   0.000000   0.000000   \n",
       "\n",
       "                        717445  773062  767620     737529     717816  ...  \\\n",
       "2012-03-01 00:00:00  68.750000  65.125  67.125  59.625000  62.750000  ...   \n",
       "2012-03-01 00:05:00  68.111111  65.000  65.000  57.444444  63.333333  ...   \n",
       "2012-03-01 00:10:00  66.250000  64.500  64.250  63.875000  65.375000  ...   \n",
       "2012-03-01 00:15:00   0.000000   0.000   0.000   0.000000   0.000000  ...   \n",
       "2012-03-01 00:20:00   0.000000   0.000   0.000   0.000000   0.000000  ...   \n",
       "\n",
       "                        772167  769372     774204     769806  717590  \\\n",
       "2012-03-01 00:00:00  45.625000  65.500  64.500000  66.428571  66.875   \n",
       "2012-03-01 00:05:00  50.666667  69.875  66.666667  58.555556  62.000   \n",
       "2012-03-01 00:10:00  44.125000  69.000  56.500000  59.250000  68.125   \n",
       "2012-03-01 00:15:00   0.000000   0.000   0.000000   0.000000   0.000   \n",
       "2012-03-01 00:20:00   0.000000   0.000   0.000000   0.000000   0.000   \n",
       "\n",
       "                        717592     717595     772168     718141  769373  \n",
       "2012-03-01 00:00:00  59.375000  69.000000  59.250000  69.000000  61.875  \n",
       "2012-03-01 00:05:00  61.111111  64.444444  55.888889  68.444444  62.875  \n",
       "2012-03-01 00:10:00  62.500000  65.625000  61.375000  69.857143  62.000  \n",
       "2012-03-01 00:15:00   0.000000   0.000000   0.000000   0.000000   0.000  \n",
       "2012-03-01 00:20:00   0.000000   0.000000   0.000000   0.000000   0.000  \n",
       "\n",
       "[5 rows x 207 columns]"
      ]
     },
     "execution_count": 6,
     "metadata": {},
     "output_type": "execute_result"
    }
   ],
   "source": [
    "data, dist, mask = x.load(impute_zeros=False)\n",
    "data.head()"
   ]
  },
  {
   "cell_type": "code",
   "execution_count": 11,
   "metadata": {
    "ExecuteTime": {
     "end_time": "2023-04-10T12:06:17.953563Z",
     "start_time": "2023-04-10T12:06:17.908557Z"
    },
    "collapsed": false
   },
   "outputs": [
    {
     "data": {
      "text/plain": [
       "(34272, 207)"
      ]
     },
     "execution_count": 11,
     "metadata": {},
     "output_type": "execute_result"
    }
   ],
   "source": [
    "data.shape"
   ]
  },
  {
   "cell_type": "code",
   "execution_count": 8,
   "metadata": {
    "ExecuteTime": {
     "end_time": "2023-04-10T12:06:00.187137Z",
     "start_time": "2023-04-10T12:06:00.186777Z"
    },
    "collapsed": false
   },
   "outputs": [
    {
     "data": {
      "text/plain": [
       "array([1.0000000e+00, 1.0204708e-05, 2.6093593e-01, ..., 6.4949799e-01,\n",
       "       6.2726212e-07, 1.0000000e+00], dtype=float32)"
      ]
     },
     "execution_count": 8,
     "metadata": {},
     "output_type": "execute_result"
    }
   ],
   "source": [
    "weight"
   ]
  },
  {
   "cell_type": "code",
   "execution_count": 9,
   "metadata": {
    "ExecuteTime": {
     "end_time": "2023-04-10T12:06:00.683026Z",
     "start_time": "2023-04-10T12:06:00.635312Z"
    },
    "collapsed": false
   },
   "outputs": [
    {
     "data": {
      "text/plain": [
       "array([[    0. ,     inf,     inf, ...,     inf,  8114.8, 10009.7],\n",
       "       [    inf,     0. ,  2504.6, ...,     inf,     inf,     inf],\n",
       "       [    inf,  1489.3,     0. , ...,     inf,     inf,  9837. ],\n",
       "       ...,\n",
       "       [    inf,     inf,     inf, ...,     0. ,     inf,     inf],\n",
       "       [ 9599.8,     inf,     inf, ...,     inf,     0. ,     inf],\n",
       "       [10119.9,  9374.8,     inf, ...,     inf,  9018.7,     0. ]],\n",
       "      dtype=float32)"
      ]
     },
     "execution_count": 9,
     "metadata": {},
     "output_type": "execute_result"
    }
   ],
   "source": [
    "dist"
   ]
  },
  {
   "cell_type": "code",
   "execution_count": 1,
   "metadata": {
    "ExecuteTime": {
     "end_time": "2023-04-10T12:36:45.641033Z",
     "start_time": "2023-04-10T12:36:44.885044Z"
    },
    "collapsed": false
   },
   "outputs": [],
   "source": [
    "from torch_geometric_temporal.dataset import ChickenpoxDatasetLoader\n",
    "from torch_geometric_temporal.signal import temporal_signal_split\n",
    "\n",
    "loader = ChickenpoxDatasetLoader()\n",
    "\n",
    "dataset = loader.get_dataset(lags=14)\n",
    "\n",
    "train_dataset, test_dataset = temporal_signal_split(dataset, train_ratio=0.5)"
   ]
  },
  {
   "cell_type": "code",
   "execution_count": 3,
   "metadata": {
    "ExecuteTime": {
     "end_time": "2023-04-10T12:33:33.766344Z",
     "start_time": "2023-04-10T12:33:33.758492Z"
    },
    "collapsed": false
   },
   "outputs": [
    {
     "data": {
      "text/plain": [
       "Data(x=[20, 14], edge_index=[2, 102], edge_attr=[102], y=[20])"
      ]
     },
     "execution_count": 3,
     "metadata": {},
     "output_type": "execute_result"
    }
   ],
   "source": [
    "next(iter(train_dataset))"
   ]
  },
  {
   "cell_type": "code",
   "execution_count": 24,
   "metadata": {
    "ExecuteTime": {
     "end_time": "2023-04-10T12:36:48.951364Z",
     "start_time": "2023-04-10T12:36:48.933847Z"
    },
    "collapsed": false
   },
   "outputs": [
    {
     "name": "stdout",
     "output_type": "stream",
     "text": [
      "Data(x=[1068, 14], edge_index=[2, 27079], edge_attr=[27079], y=[1068])\n"
     ]
    }
   ],
   "source": [
    "for snapshot in train_dataset:\n",
    "    print(snapshot)\n",
    "    break"
   ]
  },
  {
   "cell_type": "code",
   "execution_count": 1,
   "metadata": {
    "ExecuteTime": {
     "end_time": "2023-04-11T13:47:33.710466Z",
     "start_time": "2023-04-11T13:47:31.944485Z"
    },
    "collapsed": false
   },
   "outputs": [
    {
     "name": "stdout",
     "output_type": "stream",
     "text": [
      "Dataset type:   <torch_geometric_temporal.signal.static_graph_temporal_signal.StaticGraphTemporalSignal object at 0x7f7d9df57160>\n"
     ]
    }
   ],
   "source": [
    "import numpy as np\n",
    "from torch_geometric_temporal.dataset import METRLADatasetLoader\n",
    "from torch_geometric_temporal.signal import StaticGraphTemporalSignal\n",
    "\n",
    "loader = METRLADatasetLoader()\n",
    "dataset = loader.get_dataset(num_timesteps_in=12, num_timesteps_out=12)\n",
    "\n",
    "print(\"Dataset type:  \", dataset)"
   ]
  },
  {
   "cell_type": "code",
   "execution_count": 7,
   "metadata": {
    "ExecuteTime": {
     "end_time": "2023-04-11T13:48:40.112484Z",
     "start_time": "2023-04-11T13:48:40.105697Z"
    },
    "collapsed": false
   },
   "outputs": [
    {
     "name": "stdout",
     "output_type": "stream",
     "text": [
      "tensor([[[0.6521, 0.6466, 0.7620,  ..., 0.6301, 0.7565, 0.5827],\n",
      "         [1.4399, 1.4520, 1.4640,  ..., 1.5484, 1.5604, 1.5725]],\n",
      "\n",
      "        [[0.6356, 0.6246, 0.5455,  ..., 0.6686, 0.5311, 0.6569],\n",
      "         [1.4399, 1.4520, 1.4640,  ..., 1.5484, 1.5604, 1.5725]],\n",
      "\n",
      "        [[0.7950, 0.7565, 0.7497,  ..., 0.4267, 0.7785, 0.6569],\n",
      "         [1.4399, 1.4520, 1.4640,  ..., 1.5484, 1.5604, 1.5725]],\n",
      "\n",
      "        ...,\n",
      "\n",
      "        [[0.5806, 0.6356, 0.5765,  ..., 0.6631, 0.6136, 0.6259],\n",
      "         [1.4399, 1.4520, 1.4640,  ..., 1.5484, 1.5604, 1.5725]],\n",
      "\n",
      "        [[0.6686, 0.5751, 0.7002,  ..., 0.7249, 0.6576, 0.6692],\n",
      "         [1.4399, 1.4520, 1.4640,  ..., 1.5484, 1.5604, 1.5725]],\n",
      "\n",
      "        [[0.5270, 0.4321, 0.3600,  ..., 0.1023, 0.4486, 0.4528],\n",
      "         [1.4399, 1.4520, 1.4640,  ..., 1.5484, 1.5604, 1.5725]]])\n",
      "tensor([[[0.6466, 0.7620, 0.7249,  ..., 0.7565, 0.5827, 0.4899],\n",
      "         [1.4520, 1.4640, 1.4761,  ..., 1.5604, 1.5725, 1.5845]],\n",
      "\n",
      "        [[0.6246, 0.5455, 0.5270,  ..., 0.5311, 0.6569, 0.6507],\n",
      "         [1.4520, 1.4640, 1.4761,  ..., 1.5604, 1.5725, 1.5845]],\n",
      "\n",
      "        [[0.7565, 0.7497, 0.7002,  ..., 0.7785, 0.6569, 0.7187],\n",
      "         [1.4520, 1.4640, 1.4761,  ..., 1.5604, 1.5725, 1.5845]],\n",
      "\n",
      "        ...,\n",
      "\n",
      "        [[0.6356, 0.5765, 0.6136,  ..., 0.6136, 0.6259, 0.6507],\n",
      "         [1.4520, 1.4640, 1.4761,  ..., 1.5604, 1.5725, 1.5845]],\n",
      "\n",
      "        [[0.5751, 0.7002, 0.5827,  ..., 0.6576, 0.6692, 0.6383],\n",
      "         [1.4520, 1.4640, 1.4761,  ..., 1.5604, 1.5725, 1.5845]],\n",
      "\n",
      "        [[0.4321, 0.3600, 0.4961,  ..., 0.4486, 0.4528, 0.4837],\n",
      "         [1.4520, 1.4640, 1.4761,  ..., 1.5604, 1.5725, 1.5845]]])\n"
     ]
    }
   ],
   "source": [
    "for snapshot in dataset[-2:]:\n",
    "    print(snapshot.x)"
   ]
  },
  {
   "cell_type": "code",
   "execution_count": 3,
   "metadata": {
    "ExecuteTime": {
     "end_time": "2023-04-11T13:47:51.295299Z",
     "start_time": "2023-04-11T13:47:51.007653Z"
    },
    "collapsed": false
   },
   "outputs": [
    {
     "data": {
      "text/plain": [
       "<torch_geometric_temporal.signal.static_graph_temporal_signal.StaticGraphTemporalSignal at 0x7f7d9e2c29d0>"
      ]
     },
     "execution_count": 3,
     "metadata": {},
     "output_type": "execute_result"
    }
   ],
   "source": [
    "loader.get_dataset(num_timesteps_in=12, num_timesteps_out=12)"
   ]
  },
  {
   "cell_type": "code",
   "execution_count": 4,
   "outputs": [],
   "source": [
    "p_fault, p_noise = 0.0015, 0.05\n",
    "mtrla = add_missing_values(MetrLA(),\n",
    "                           p_fault=p_fault,\n",
    "                           p_noise=p_noise,\n",
    "                           min_seq=12,\n",
    "                           max_seq=12*4,\n",
    "                           seed=9101112)"
   ],
   "metadata": {
    "collapsed": false,
    "ExecuteTime": {
     "start_time": "2023-04-26T18:51:27.940371Z",
     "end_time": "2023-04-26T18:51:29.310519Z"
    }
   }
  },
  {
   "cell_type": "code",
   "execution_count": 5,
   "outputs": [
    {
     "data": {
      "text/plain": "nodes                   773869     767541     767542     717447     717446  \\\nchannels                     0          0          0          0          0   \n2012-03-01 00:00:00  64.375000  67.625000  67.125000  61.500000  66.875000   \n2012-03-01 00:05:00  62.666668  68.555557  65.444443  62.444443  64.444443   \n2012-03-01 00:10:00  64.000000  63.750000  60.000000  59.000000  66.500000   \n2012-03-01 00:15:00  64.000000  63.750000  60.000000  59.000000  66.500000   \n2012-03-01 00:20:00  64.000000  63.750000  60.000000  59.000000  66.500000   \n...                        ...        ...        ...        ...        ...   \n2012-06-27 23:35:00  65.000000  65.888885  68.555557  61.666668  32.833332   \n2012-06-27 23:40:00  61.375000  65.625000  66.500000  62.750000  32.833332   \n2012-06-27 23:45:00  67.000000  59.666668  69.555557  61.000000  32.833332   \n2012-06-27 23:50:00  66.750000  62.250000  66.000000  59.625000  32.833332   \n2012-06-27 23:55:00  65.111115  66.888885  66.777779  61.222221  32.833332   \n\nnodes                   717445     773062     767620     737529     717816  \\\nchannels                     0          0          0          0          0   \n2012-03-01 00:00:00  68.750000  65.125000  67.125000  59.625000  62.750000   \n2012-03-01 00:05:00  68.111115  65.000000  65.000000  57.444443  63.333332   \n2012-03-01 00:10:00  66.250000  64.500000  64.250000  63.875000  65.375000   \n2012-03-01 00:15:00  66.250000  64.500000  64.250000  63.875000  65.375000   \n2012-03-01 00:20:00  66.250000  64.500000  64.250000  63.875000  65.375000   \n...                        ...        ...        ...        ...        ...   \n2012-06-27 23:35:00  54.555557  62.444443  63.333332  59.222221  65.333336   \n2012-06-27 23:40:00  50.500000  62.000000  67.000000  65.250000  67.125000   \n2012-06-27 23:45:00  44.777779  64.222221  63.777779  59.777779  57.666668   \n2012-06-27 23:50:00  53.000000  64.285713  64.125000  60.875000  66.250000   \n2012-06-27 23:55:00  49.555557  65.777779  65.111115  63.000000  61.666668   \n\nnodes                ...     772167     769372     774204     769806  \\\nchannels             ...          0          0          0          0   \n2012-03-01 00:00:00  ...  45.625000  65.500000  64.500000  66.428574   \n2012-03-01 00:05:00  ...  50.666668  69.875000  66.666664  58.555557   \n2012-03-01 00:10:00  ...  44.125000  69.000000  56.500000  59.250000   \n2012-03-01 00:15:00  ...  44.125000  69.000000  56.500000  59.250000   \n2012-03-01 00:20:00  ...  44.125000  69.000000  56.500000  59.250000   \n...                  ...        ...        ...        ...        ...   \n2012-06-27 23:35:00  ...  52.888889  69.000000  65.111115  55.666668   \n2012-06-27 23:40:00  ...  54.000000  69.250000  60.125000  60.500000   \n2012-06-27 23:45:00  ...  51.333332  67.888885  64.333336  57.000000   \n2012-06-27 23:50:00  ...  51.125000  69.375000  61.625000  60.500000   \n2012-06-27 23:55:00  ...  56.000000  67.444443  64.888885  60.888889   \n\nnodes                   717590     717592     717595     772168     718141  \\\nchannels                     0          0          0          0          0   \n2012-03-01 00:00:00  66.875000  59.375000  69.000000  59.250000  69.000000   \n2012-03-01 00:05:00  62.000000  61.111111  64.444443  55.888889  68.444443   \n2012-03-01 00:10:00  68.125000  62.500000  65.625000  61.375000  69.857140   \n2012-03-01 00:15:00  68.125000  62.500000  65.625000  61.375000  69.857140   \n2012-03-01 00:20:00  68.125000  62.500000  65.625000  61.375000  69.857140   \n...                        ...        ...        ...        ...        ...   \n2012-06-27 23:35:00  66.333336  62.444443  66.777779  64.888885  69.666664   \n2012-06-27 23:40:00  67.250000  59.375000  66.000000  61.250000  69.000000   \n2012-06-27 23:45:00  66.000000  62.666668  68.666664  63.333332  67.444443   \n2012-06-27 23:50:00  65.625000  66.375000  69.500000  63.000000  67.875000   \n2012-06-27 23:55:00  64.222221  66.444443  68.444443  63.555557  68.666664   \n\nnodes                   769373  \nchannels                     0  \n2012-03-01 00:00:00  61.875000  \n2012-03-01 00:05:00  62.875000  \n2012-03-01 00:10:00  62.000000  \n2012-03-01 00:15:00  62.000000  \n2012-03-01 00:20:00  62.000000  \n...                        ...  \n2012-06-27 23:35:00  62.333332  \n2012-06-27 23:40:00  62.000000  \n2012-06-27 23:45:00  61.222221  \n2012-06-27 23:50:00  63.500000  \n2012-06-27 23:55:00  61.777779  \n\n[34272 rows x 207 columns]",
      "text/html": "<div>\n<style scoped>\n    .dataframe tbody tr th:only-of-type {\n        vertical-align: middle;\n    }\n\n    .dataframe tbody tr th {\n        vertical-align: top;\n    }\n\n    .dataframe thead tr th {\n        text-align: left;\n    }\n</style>\n<table border=\"1\" class=\"dataframe\">\n  <thead>\n    <tr>\n      <th>nodes</th>\n      <th>773869</th>\n      <th>767541</th>\n      <th>767542</th>\n      <th>717447</th>\n      <th>717446</th>\n      <th>717445</th>\n      <th>773062</th>\n      <th>767620</th>\n      <th>737529</th>\n      <th>717816</th>\n      <th>...</th>\n      <th>772167</th>\n      <th>769372</th>\n      <th>774204</th>\n      <th>769806</th>\n      <th>717590</th>\n      <th>717592</th>\n      <th>717595</th>\n      <th>772168</th>\n      <th>718141</th>\n      <th>769373</th>\n    </tr>\n    <tr>\n      <th>channels</th>\n      <th>0</th>\n      <th>0</th>\n      <th>0</th>\n      <th>0</th>\n      <th>0</th>\n      <th>0</th>\n      <th>0</th>\n      <th>0</th>\n      <th>0</th>\n      <th>0</th>\n      <th>...</th>\n      <th>0</th>\n      <th>0</th>\n      <th>0</th>\n      <th>0</th>\n      <th>0</th>\n      <th>0</th>\n      <th>0</th>\n      <th>0</th>\n      <th>0</th>\n      <th>0</th>\n    </tr>\n  </thead>\n  <tbody>\n    <tr>\n      <th>2012-03-01 00:00:00</th>\n      <td>64.375000</td>\n      <td>67.625000</td>\n      <td>67.125000</td>\n      <td>61.500000</td>\n      <td>66.875000</td>\n      <td>68.750000</td>\n      <td>65.125000</td>\n      <td>67.125000</td>\n      <td>59.625000</td>\n      <td>62.750000</td>\n      <td>...</td>\n      <td>45.625000</td>\n      <td>65.500000</td>\n      <td>64.500000</td>\n      <td>66.428574</td>\n      <td>66.875000</td>\n      <td>59.375000</td>\n      <td>69.000000</td>\n      <td>59.250000</td>\n      <td>69.000000</td>\n      <td>61.875000</td>\n    </tr>\n    <tr>\n      <th>2012-03-01 00:05:00</th>\n      <td>62.666668</td>\n      <td>68.555557</td>\n      <td>65.444443</td>\n      <td>62.444443</td>\n      <td>64.444443</td>\n      <td>68.111115</td>\n      <td>65.000000</td>\n      <td>65.000000</td>\n      <td>57.444443</td>\n      <td>63.333332</td>\n      <td>...</td>\n      <td>50.666668</td>\n      <td>69.875000</td>\n      <td>66.666664</td>\n      <td>58.555557</td>\n      <td>62.000000</td>\n      <td>61.111111</td>\n      <td>64.444443</td>\n      <td>55.888889</td>\n      <td>68.444443</td>\n      <td>62.875000</td>\n    </tr>\n    <tr>\n      <th>2012-03-01 00:10:00</th>\n      <td>64.000000</td>\n      <td>63.750000</td>\n      <td>60.000000</td>\n      <td>59.000000</td>\n      <td>66.500000</td>\n      <td>66.250000</td>\n      <td>64.500000</td>\n      <td>64.250000</td>\n      <td>63.875000</td>\n      <td>65.375000</td>\n      <td>...</td>\n      <td>44.125000</td>\n      <td>69.000000</td>\n      <td>56.500000</td>\n      <td>59.250000</td>\n      <td>68.125000</td>\n      <td>62.500000</td>\n      <td>65.625000</td>\n      <td>61.375000</td>\n      <td>69.857140</td>\n      <td>62.000000</td>\n    </tr>\n    <tr>\n      <th>2012-03-01 00:15:00</th>\n      <td>64.000000</td>\n      <td>63.750000</td>\n      <td>60.000000</td>\n      <td>59.000000</td>\n      <td>66.500000</td>\n      <td>66.250000</td>\n      <td>64.500000</td>\n      <td>64.250000</td>\n      <td>63.875000</td>\n      <td>65.375000</td>\n      <td>...</td>\n      <td>44.125000</td>\n      <td>69.000000</td>\n      <td>56.500000</td>\n      <td>59.250000</td>\n      <td>68.125000</td>\n      <td>62.500000</td>\n      <td>65.625000</td>\n      <td>61.375000</td>\n      <td>69.857140</td>\n      <td>62.000000</td>\n    </tr>\n    <tr>\n      <th>2012-03-01 00:20:00</th>\n      <td>64.000000</td>\n      <td>63.750000</td>\n      <td>60.000000</td>\n      <td>59.000000</td>\n      <td>66.500000</td>\n      <td>66.250000</td>\n      <td>64.500000</td>\n      <td>64.250000</td>\n      <td>63.875000</td>\n      <td>65.375000</td>\n      <td>...</td>\n      <td>44.125000</td>\n      <td>69.000000</td>\n      <td>56.500000</td>\n      <td>59.250000</td>\n      <td>68.125000</td>\n      <td>62.500000</td>\n      <td>65.625000</td>\n      <td>61.375000</td>\n      <td>69.857140</td>\n      <td>62.000000</td>\n    </tr>\n    <tr>\n      <th>...</th>\n      <td>...</td>\n      <td>...</td>\n      <td>...</td>\n      <td>...</td>\n      <td>...</td>\n      <td>...</td>\n      <td>...</td>\n      <td>...</td>\n      <td>...</td>\n      <td>...</td>\n      <td>...</td>\n      <td>...</td>\n      <td>...</td>\n      <td>...</td>\n      <td>...</td>\n      <td>...</td>\n      <td>...</td>\n      <td>...</td>\n      <td>...</td>\n      <td>...</td>\n      <td>...</td>\n    </tr>\n    <tr>\n      <th>2012-06-27 23:35:00</th>\n      <td>65.000000</td>\n      <td>65.888885</td>\n      <td>68.555557</td>\n      <td>61.666668</td>\n      <td>32.833332</td>\n      <td>54.555557</td>\n      <td>62.444443</td>\n      <td>63.333332</td>\n      <td>59.222221</td>\n      <td>65.333336</td>\n      <td>...</td>\n      <td>52.888889</td>\n      <td>69.000000</td>\n      <td>65.111115</td>\n      <td>55.666668</td>\n      <td>66.333336</td>\n      <td>62.444443</td>\n      <td>66.777779</td>\n      <td>64.888885</td>\n      <td>69.666664</td>\n      <td>62.333332</td>\n    </tr>\n    <tr>\n      <th>2012-06-27 23:40:00</th>\n      <td>61.375000</td>\n      <td>65.625000</td>\n      <td>66.500000</td>\n      <td>62.750000</td>\n      <td>32.833332</td>\n      <td>50.500000</td>\n      <td>62.000000</td>\n      <td>67.000000</td>\n      <td>65.250000</td>\n      <td>67.125000</td>\n      <td>...</td>\n      <td>54.000000</td>\n      <td>69.250000</td>\n      <td>60.125000</td>\n      <td>60.500000</td>\n      <td>67.250000</td>\n      <td>59.375000</td>\n      <td>66.000000</td>\n      <td>61.250000</td>\n      <td>69.000000</td>\n      <td>62.000000</td>\n    </tr>\n    <tr>\n      <th>2012-06-27 23:45:00</th>\n      <td>67.000000</td>\n      <td>59.666668</td>\n      <td>69.555557</td>\n      <td>61.000000</td>\n      <td>32.833332</td>\n      <td>44.777779</td>\n      <td>64.222221</td>\n      <td>63.777779</td>\n      <td>59.777779</td>\n      <td>57.666668</td>\n      <td>...</td>\n      <td>51.333332</td>\n      <td>67.888885</td>\n      <td>64.333336</td>\n      <td>57.000000</td>\n      <td>66.000000</td>\n      <td>62.666668</td>\n      <td>68.666664</td>\n      <td>63.333332</td>\n      <td>67.444443</td>\n      <td>61.222221</td>\n    </tr>\n    <tr>\n      <th>2012-06-27 23:50:00</th>\n      <td>66.750000</td>\n      <td>62.250000</td>\n      <td>66.000000</td>\n      <td>59.625000</td>\n      <td>32.833332</td>\n      <td>53.000000</td>\n      <td>64.285713</td>\n      <td>64.125000</td>\n      <td>60.875000</td>\n      <td>66.250000</td>\n      <td>...</td>\n      <td>51.125000</td>\n      <td>69.375000</td>\n      <td>61.625000</td>\n      <td>60.500000</td>\n      <td>65.625000</td>\n      <td>66.375000</td>\n      <td>69.500000</td>\n      <td>63.000000</td>\n      <td>67.875000</td>\n      <td>63.500000</td>\n    </tr>\n    <tr>\n      <th>2012-06-27 23:55:00</th>\n      <td>65.111115</td>\n      <td>66.888885</td>\n      <td>66.777779</td>\n      <td>61.222221</td>\n      <td>32.833332</td>\n      <td>49.555557</td>\n      <td>65.777779</td>\n      <td>65.111115</td>\n      <td>63.000000</td>\n      <td>61.666668</td>\n      <td>...</td>\n      <td>56.000000</td>\n      <td>67.444443</td>\n      <td>64.888885</td>\n      <td>60.888889</td>\n      <td>64.222221</td>\n      <td>66.444443</td>\n      <td>68.444443</td>\n      <td>63.555557</td>\n      <td>68.666664</td>\n      <td>61.777779</td>\n    </tr>\n  </tbody>\n</table>\n<p>34272 rows × 207 columns</p>\n</div>"
     },
     "execution_count": 5,
     "metadata": {},
     "output_type": "execute_result"
    }
   ],
   "source": [
    "mtrla.dataframe()"
   ],
   "metadata": {
    "collapsed": false,
    "ExecuteTime": {
     "start_time": "2023-04-26T18:51:38.288480Z",
     "end_time": "2023-04-26T18:51:38.342158Z"
    }
   }
  },
  {
   "cell_type": "code",
   "execution_count": 11,
   "outputs": [
    {
     "data": {
      "text/plain": "(34272, 207, 1)"
     },
     "execution_count": 11,
     "metadata": {},
     "output_type": "execute_result"
    }
   ],
   "source": [
    "mtrla.training_mask.shape"
   ],
   "metadata": {
    "collapsed": false,
    "ExecuteTime": {
     "start_time": "2023-04-26T18:53:04.005709Z",
     "end_time": "2023-04-26T18:53:04.048580Z"
    }
   }
  },
  {
   "cell_type": "code",
   "execution_count": 13,
   "outputs": [
    {
     "data": {
      "text/plain": "array([[ True,  True,  True, ...,  True,  True, False],\n       [ True,  True, False, ...,  True,  True,  True],\n       [ True,  True,  True, ...,  True,  True,  True],\n       ...,\n       [ True,  True,  True, ...,  True,  True,  True],\n       [ True, False,  True, ...,  True,  True,  True],\n       [ True,  True,  True, ...,  True,  True,  True]])"
     },
     "execution_count": 13,
     "metadata": {},
     "output_type": "execute_result"
    }
   ],
   "source": [
    "mtrla.training_mask.reshape(-1, 207)"
   ],
   "metadata": {
    "collapsed": false,
    "ExecuteTime": {
     "start_time": "2023-04-26T18:53:30.578975Z",
     "end_time": "2023-04-26T18:53:30.587042Z"
    }
   }
  },
  {
   "cell_type": "code",
   "execution_count": 15,
   "outputs": [
    {
     "data": {
      "text/plain": "(34272, 207)"
     },
     "execution_count": 15,
     "metadata": {},
     "output_type": "execute_result"
    }
   ],
   "source": [
    "mtrla.eval_mask.reshape(-1, 207).shape"
   ],
   "metadata": {
    "collapsed": false,
    "ExecuteTime": {
     "start_time": "2023-04-26T19:26:02.294679Z",
     "end_time": "2023-04-26T19:26:02.336586Z"
    }
   }
  },
  {
   "cell_type": "code",
   "execution_count": 16,
   "outputs": [
    {
     "data": {
      "text/plain": "(34272, 207)"
     },
     "execution_count": 16,
     "metadata": {},
     "output_type": "execute_result"
    }
   ],
   "source": [
    "mtrla.eval_mask[:,:,0].shape"
   ],
   "metadata": {
    "collapsed": false,
    "ExecuteTime": {
     "start_time": "2023-04-26T19:26:15.165562Z",
     "end_time": "2023-04-26T19:26:15.170789Z"
    }
   }
  },
  {
   "cell_type": "code",
   "execution_count": null,
   "outputs": [],
   "source": [],
   "metadata": {
    "collapsed": false
   }
  }
 ],
 "metadata": {
  "kernelspec": {
   "display_name": "Python 3",
   "language": "python",
   "name": "python3"
  },
  "language_info": {
   "codemirror_mode": {
    "name": "ipython",
    "version": 3
   },
   "file_extension": ".py",
   "mimetype": "text/x-python",
   "name": "python",
   "nbconvert_exporter": "python",
   "pygments_lexer": "ipython3",
   "version": "3.8.11"
  }
 },
 "nbformat": 4,
 "nbformat_minor": 0
}
