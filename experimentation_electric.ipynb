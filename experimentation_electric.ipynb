{
 "cells": [
  {
   "cell_type": "code",
   "execution_count": 16,
   "metadata": {
    "collapsed": true,
    "ExecuteTime": {
     "end_time": "2023-06-13T20:43:36.588095585Z",
     "start_time": "2023-06-13T20:43:36.568873867Z"
    }
   },
   "outputs": [],
   "source": [
    "import pandas as pd\n",
    "import numpy as np\n",
    "from sklearn.preprocessing import MinMaxScaler\n",
    "from sklearn.metrics import mean_absolute_error, mean_squared_error"
   ]
  },
  {
   "cell_type": "code",
   "execution_count": 17,
   "outputs": [
    {
     "data": {
      "text/plain": "     precio   demanda  porcentaje    eolica  hidraulica     solar\n0  0.507176  0.228012    0.508747  0.346219    0.309066  0.026074\n1  0.449610  0.155475    0.528468  0.330156    0.284614  0.025928\n2  0.376443  0.109446    0.528729  0.341617    0.244005  0.025928\n3  0.373479  0.074617    0.492106  0.321261    0.232198  0.026001\n4  0.372075  0.052909    0.471223  0.280541    0.251557  0.025928",
      "text/html": "<div>\n<style scoped>\n    .dataframe tbody tr th:only-of-type {\n        vertical-align: middle;\n    }\n\n    .dataframe tbody tr th {\n        vertical-align: top;\n    }\n\n    .dataframe thead th {\n        text-align: right;\n    }\n</style>\n<table border=\"1\" class=\"dataframe\">\n  <thead>\n    <tr style=\"text-align: right;\">\n      <th></th>\n      <th>precio</th>\n      <th>demanda</th>\n      <th>porcentaje</th>\n      <th>eolica</th>\n      <th>hidraulica</th>\n      <th>solar</th>\n    </tr>\n  </thead>\n  <tbody>\n    <tr>\n      <th>0</th>\n      <td>0.507176</td>\n      <td>0.228012</td>\n      <td>0.508747</td>\n      <td>0.346219</td>\n      <td>0.309066</td>\n      <td>0.026074</td>\n    </tr>\n    <tr>\n      <th>1</th>\n      <td>0.449610</td>\n      <td>0.155475</td>\n      <td>0.528468</td>\n      <td>0.330156</td>\n      <td>0.284614</td>\n      <td>0.025928</td>\n    </tr>\n    <tr>\n      <th>2</th>\n      <td>0.376443</td>\n      <td>0.109446</td>\n      <td>0.528729</td>\n      <td>0.341617</td>\n      <td>0.244005</td>\n      <td>0.025928</td>\n    </tr>\n    <tr>\n      <th>3</th>\n      <td>0.373479</td>\n      <td>0.074617</td>\n      <td>0.492106</td>\n      <td>0.321261</td>\n      <td>0.232198</td>\n      <td>0.026001</td>\n    </tr>\n    <tr>\n      <th>4</th>\n      <td>0.372075</td>\n      <td>0.052909</td>\n      <td>0.471223</td>\n      <td>0.280541</td>\n      <td>0.251557</td>\n      <td>0.025928</td>\n    </tr>\n  </tbody>\n</table>\n</div>"
     },
     "execution_count": 17,
     "metadata": {},
     "output_type": "execute_result"
    }
   ],
   "source": [
    "data = pd.read_csv('./data/electric/normal.csv')\n",
    "scaler = MinMaxScaler()\n",
    "data_norm = scaler.fit_transform(data)\n",
    "data = pd.DataFrame(data_norm, columns=data.columns)\n",
    "data.head()"
   ],
   "metadata": {
    "collapsed": false,
    "ExecuteTime": {
     "end_time": "2023-06-13T20:43:36.903116361Z",
     "start_time": "2023-06-13T20:43:36.889864284Z"
    }
   }
  },
  {
   "cell_type": "code",
   "execution_count": 18,
   "outputs": [],
   "source": [
    "def generate_missing_data(d, missing_rate=0.25):\n",
    "    missing_mask = np.random.rand(data.shape[0], data.shape[1]) < missing_rate\n",
    "    missing_data = np.where(missing_mask, np.nan, data)\n",
    "    missing_data = pd.DataFrame(missing_data, columns=data.columns)\n",
    "    return missing_mask, missing_data"
   ],
   "metadata": {
    "collapsed": false,
    "ExecuteTime": {
     "end_time": "2023-06-13T20:43:38.046942436Z",
     "start_time": "2023-06-13T20:43:38.032139371Z"
    }
   }
  },
  {
   "cell_type": "markdown",
   "source": [
    "# Carry imputation"
   ],
   "metadata": {
    "collapsed": false
   }
  },
  {
   "cell_type": "code",
   "execution_count": 10,
   "outputs": [
    {
     "name": "stdout",
     "output_type": "stream",
     "text": [
      "Results: 0.007182878243679319 +- 0.0002952152769976712\n"
     ]
    }
   ],
   "source": [
    "res = []\n",
    "for i in range(5):\n",
    "    missing_mask, missing_data = generate_missing_data(data)\n",
    "    carry_imputation = missing_data.fillna(method='ffill').fillna(method='bfill')\n",
    "    results = mean_squared_error(data.values[missing_mask], carry_imputation.values[missing_mask])\n",
    "    res.append(results)\n",
    "\n",
    "print(f'Results: {np.mean(res)} +- {np.std(res)}')\n"
   ],
   "metadata": {
    "collapsed": false,
    "ExecuteTime": {
     "end_time": "2023-06-13T11:52:41.439252930Z",
     "start_time": "2023-06-13T11:52:41.430832330Z"
    }
   }
  },
  {
   "cell_type": "markdown",
   "source": [
    "# Mean imputation"
   ],
   "metadata": {
    "collapsed": false
   }
  },
  {
   "cell_type": "code",
   "execution_count": 11,
   "outputs": [
    {
     "name": "stdout",
     "output_type": "stream",
     "text": [
      "Results: 0.05014863037172135 +- 0.0005052916034427229\n"
     ]
    }
   ],
   "source": [
    "res = []\n",
    "for i in range(5):\n",
    "    missing_mask, missing_data = generate_missing_data(data)\n",
    "    mean_imputation = missing_data.fillna(missing_data.mean())\n",
    "    results = mean_squared_error(data.values[missing_mask], mean_imputation.values[missing_mask])\n",
    "    res.append(results)\n",
    "\n",
    "print(f'Results: {np.mean(res)} +- {np.std(res)}')"
   ],
   "metadata": {
    "collapsed": false,
    "ExecuteTime": {
     "end_time": "2023-06-13T11:52:50.477233781Z",
     "start_time": "2023-06-13T11:52:50.434821632Z"
    }
   }
  },
  {
   "cell_type": "markdown",
   "source": [
    "# zero imputation"
   ],
   "metadata": {
    "collapsed": false
   }
  },
  {
   "cell_type": "code",
   "execution_count": 12,
   "outputs": [
    {
     "name": "stdout",
     "output_type": "stream",
     "text": [
      "Results: 0.25248181149597443 +- 0.003926736144059718\n"
     ]
    }
   ],
   "source": [
    "res = []\n",
    "for i in range(5):\n",
    "    missing_mask, missing_data = generate_missing_data(data)\n",
    "    zero_imputation = missing_data.fillna(0)\n",
    "    results = mean_squared_error(data.values[missing_mask], zero_imputation.values[missing_mask])\n",
    "    res.append(results)\n",
    "\n",
    "print(f'Results: {np.mean(res)} +- {np.std(res)}')"
   ],
   "metadata": {
    "collapsed": false,
    "ExecuteTime": {
     "end_time": "2023-06-13T11:52:59.346830938Z",
     "start_time": "2023-06-13T11:52:59.333986422Z"
    }
   }
  },
  {
   "cell_type": "markdown",
   "source": [
    "# linear interpolation"
   ],
   "metadata": {
    "collapsed": false
   }
  },
  {
   "cell_type": "code",
   "execution_count": 13,
   "outputs": [
    {
     "name": "stdout",
     "output_type": "stream",
     "text": [
      "Results: 0.0012057555962061083 +- 8.25929836402565e-05\n"
     ]
    }
   ],
   "source": [
    "res = []\n",
    "for i in range(5):\n",
    "    missing_mask, missing_data = generate_missing_data(data)\n",
    "    linear_interpolation = missing_data.interpolate().fillna(method='bfill')\n",
    "    results = mean_squared_error(data.values[missing_mask], linear_interpolation.values[missing_mask])\n",
    "    res.append(results)\n",
    "\n",
    "print(f'Results: {np.mean(res)} +- {np.std(res)}')"
   ],
   "metadata": {
    "collapsed": false,
    "ExecuteTime": {
     "end_time": "2023-06-13T11:53:03.155492981Z",
     "start_time": "2023-06-13T11:53:03.112176147Z"
    }
   }
  },
  {
   "cell_type": "code",
   "execution_count": 24,
   "outputs": [
    {
     "name": "stdout",
     "output_type": "stream",
     "text": [
      "Results: 0.030396513839068613 +- 0.0007567891366223787\n"
     ]
    }
   ],
   "source": [
    "res = []\n",
    "for i in range(5):\n",
    "    missing_mask, missing_data = generate_missing_data(data, missing_rate=0.9)\n",
    "    linear_interpolation = missing_data.interpolate().fillna(method='bfill')\n",
    "    results = mean_squared_error(data.values[missing_mask], linear_interpolation.values[missing_mask])\n",
    "    res.append(results)\n",
    "\n",
    "print(f'Results: {np.mean(res)} +- {np.std(res)}')"
   ],
   "metadata": {
    "collapsed": false,
    "ExecuteTime": {
     "end_time": "2023-06-13T20:45:16.865328304Z",
     "start_time": "2023-06-13T20:45:16.822238343Z"
    }
   }
  },
  {
   "cell_type": "markdown",
   "source": [
    "# Gain 0.03 in MAE"
   ],
   "metadata": {
    "collapsed": false
   }
  },
  {
   "cell_type": "code",
   "execution_count": 14,
   "outputs": [
    {
     "name": "stdout",
     "output_type": "stream",
     "text": [
      "Results: 0.034877932816743853 +- 0.007193198389792043\n"
     ]
    }
   ],
   "source": [
    "results_gain = [\n",
    "    0.047141119837760925,\n",
    "    0.03490561991930008,\n",
    "    0.03099825792014599,\n",
    "    0.02529190666973591,\n",
    "    0.03605275973677635\n",
    "]\n",
    "\n",
    "print(f'Results: {np.mean(results_gain)} +- {np.std(results_gain)}')"
   ],
   "metadata": {
    "collapsed": false,
    "ExecuteTime": {
     "end_time": "2023-06-13T11:53:31.787001095Z",
     "start_time": "2023-06-13T11:53:31.734782292Z"
    }
   }
  },
  {
   "cell_type": "code",
   "execution_count": 15,
   "outputs": [
    {
     "data": {
      "text/plain": "0.0021391022651707416"
     },
     "execution_count": 15,
     "metadata": {},
     "output_type": "execute_result"
    }
   ],
   "source": [
    "0.00284798499196764 +- 0.0007088827267968981"
   ],
   "metadata": {
    "collapsed": false,
    "ExecuteTime": {
     "end_time": "2023-06-13T12:02:54.174715932Z",
     "start_time": "2023-06-13T12:02:54.166775171Z"
    }
   }
  },
  {
   "cell_type": "code",
   "execution_count": null,
   "outputs": [],
   "source": [],
   "metadata": {
    "collapsed": false
   }
  }
 ],
 "metadata": {
  "kernelspec": {
   "display_name": "Python 3",
   "language": "python",
   "name": "python3"
  },
  "language_info": {
   "codemirror_mode": {
    "name": "ipython",
    "version": 2
   },
   "file_extension": ".py",
   "mimetype": "text/x-python",
   "name": "python",
   "nbconvert_exporter": "python",
   "pygments_lexer": "ipython2",
   "version": "2.7.6"
  }
 },
 "nbformat": 4,
 "nbformat_minor": 0
}
